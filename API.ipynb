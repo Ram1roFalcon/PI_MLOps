{
 "cells": [
  {
   "cell_type": "code",
   "execution_count": 1,
   "metadata": {},
   "outputs": [],
   "source": [
    "import numpy as np\n",
    "import pandas as pd\n",
    "\n",
    "from sklearn.feature_extraction.text import CountVectorizer\n",
    "from sklearn.metrics.pairwise import cosine_similarity"
   ]
  },
  {
   "cell_type": "markdown",
   "metadata": {},
   "source": [
    "Traemos los dataframes"
   ]
  },
  {
   "cell_type": "code",
   "execution_count": 2,
   "metadata": {},
   "outputs": [],
   "source": [
    "itemsxgames = pd.read_parquet('itemsxgames.parquet')\n",
    "reviewsxgames = pd.read_parquet('reviewsxgames.parquet')\n",
    "steamxgames = pd.read_parquet('steamxgamesml.parquet')"
   ]
  },
  {
   "cell_type": "markdown",
   "metadata": {},
   "source": [
    "Puliendo algunos detalles antes de hacer las funciones"
   ]
  },
  {
   "cell_type": "code",
   "execution_count": 3,
   "metadata": {},
   "outputs": [],
   "source": [
    "funcion_4 = pd.read_parquet(r\"data\\user_reviews.parquet\")"
   ]
  },
  {
   "cell_type": "code",
   "execution_count": 4,
   "metadata": {},
   "outputs": [
    {
     "data": {
      "text/html": [
       "<div>\n",
       "<style scoped>\n",
       "    .dataframe tbody tr th:only-of-type {\n",
       "        vertical-align: middle;\n",
       "    }\n",
       "\n",
       "    .dataframe tbody tr th {\n",
       "        vertical-align: top;\n",
       "    }\n",
       "\n",
       "    .dataframe thead th {\n",
       "        text-align: right;\n",
       "    }\n",
       "</style>\n",
       "<table border=\"1\" class=\"dataframe\">\n",
       "  <thead>\n",
       "    <tr style=\"text-align: right;\">\n",
       "      <th></th>\n",
       "      <th>genres</th>\n",
       "      <th>year_release</th>\n",
       "      <th>playtime_forever</th>\n",
       "      <th>user_id</th>\n",
       "    </tr>\n",
       "  </thead>\n",
       "  <tbody>\n",
       "    <tr>\n",
       "      <th>0</th>\n",
       "      <td>Action</td>\n",
       "      <td>2000</td>\n",
       "      <td>6</td>\n",
       "      <td>76561197970982479</td>\n",
       "    </tr>\n",
       "    <tr>\n",
       "      <th>1</th>\n",
       "      <td>Action</td>\n",
       "      <td>2000</td>\n",
       "      <td>93</td>\n",
       "      <td>doctr</td>\n",
       "    </tr>\n",
       "    <tr>\n",
       "      <th>2</th>\n",
       "      <td>Action</td>\n",
       "      <td>2000</td>\n",
       "      <td>108</td>\n",
       "      <td>corrupted_soul</td>\n",
       "    </tr>\n",
       "    <tr>\n",
       "      <th>3</th>\n",
       "      <td>Action</td>\n",
       "      <td>2000</td>\n",
       "      <td>328</td>\n",
       "      <td>WeiEDKrSat</td>\n",
       "    </tr>\n",
       "    <tr>\n",
       "      <th>4</th>\n",
       "      <td>Action</td>\n",
       "      <td>2000</td>\n",
       "      <td>580</td>\n",
       "      <td>Fr0stedLine</td>\n",
       "    </tr>\n",
       "    <tr>\n",
       "      <th>...</th>\n",
       "      <td>...</td>\n",
       "      <td>...</td>\n",
       "      <td>...</td>\n",
       "      <td>...</td>\n",
       "    </tr>\n",
       "    <tr>\n",
       "      <th>4194864</th>\n",
       "      <td>Indie</td>\n",
       "      <td>2016</td>\n",
       "      <td>164</td>\n",
       "      <td>76561198107283457</td>\n",
       "    </tr>\n",
       "    <tr>\n",
       "      <th>4194865</th>\n",
       "      <td>Simulation</td>\n",
       "      <td>2016</td>\n",
       "      <td>164</td>\n",
       "      <td>76561198107283457</td>\n",
       "    </tr>\n",
       "    <tr>\n",
       "      <th>4194866</th>\n",
       "      <td>Action</td>\n",
       "      <td>2015</td>\n",
       "      <td>1</td>\n",
       "      <td>76561198146468235</td>\n",
       "    </tr>\n",
       "    <tr>\n",
       "      <th>4194867</th>\n",
       "      <td>Indie</td>\n",
       "      <td>2015</td>\n",
       "      <td>1</td>\n",
       "      <td>76561198146468235</td>\n",
       "    </tr>\n",
       "    <tr>\n",
       "      <th>4194868</th>\n",
       "      <td>Sports</td>\n",
       "      <td>2015</td>\n",
       "      <td>1</td>\n",
       "      <td>76561198146468235</td>\n",
       "    </tr>\n",
       "  </tbody>\n",
       "</table>\n",
       "<p>4194869 rows × 4 columns</p>\n",
       "</div>"
      ],
      "text/plain": [
       "             genres  year_release  playtime_forever            user_id\n",
       "0            Action          2000                 6  76561197970982479\n",
       "1            Action          2000                93              doctr\n",
       "2            Action          2000               108     corrupted_soul\n",
       "3            Action          2000               328         WeiEDKrSat\n",
       "4            Action          2000               580        Fr0stedLine\n",
       "...             ...           ...               ...                ...\n",
       "4194864       Indie          2016               164  76561198107283457\n",
       "4194865  Simulation          2016               164  76561198107283457\n",
       "4194866      Action          2015                 1  76561198146468235\n",
       "4194867       Indie          2015                 1  76561198146468235\n",
       "4194868      Sports          2015                 1  76561198146468235\n",
       "\n",
       "[4194869 rows x 4 columns]"
      ]
     },
     "execution_count": 4,
     "metadata": {},
     "output_type": "execute_result"
    }
   ],
   "source": [
    "itemsxgames = itemsxgames.query('playtime_forever != 0')\n",
    "\n",
    "# Imprime el DataFrame resultante\n",
    "itemsxgames"
   ]
  },
  {
   "cell_type": "code",
   "execution_count": 5,
   "metadata": {},
   "outputs": [
    {
     "data": {
      "text/html": [
       "<div>\n",
       "<style scoped>\n",
       "    .dataframe tbody tr th:only-of-type {\n",
       "        vertical-align: middle;\n",
       "    }\n",
       "\n",
       "    .dataframe tbody tr th {\n",
       "        vertical-align: top;\n",
       "    }\n",
       "\n",
       "    .dataframe thead th {\n",
       "        text-align: right;\n",
       "    }\n",
       "</style>\n",
       "<table border=\"1\" class=\"dataframe\">\n",
       "  <thead>\n",
       "    <tr style=\"text-align: right;\">\n",
       "      <th></th>\n",
       "      <th>user_id</th>\n",
       "      <th>item_id</th>\n",
       "      <th>recommend</th>\n",
       "      <th>year_posted</th>\n",
       "      <th>sentiment_analysis</th>\n",
       "      <th>title</th>\n",
       "      <th>developer</th>\n",
       "      <th>description</th>\n",
       "    </tr>\n",
       "  </thead>\n",
       "  <tbody>\n",
       "    <tr>\n",
       "      <th>0</th>\n",
       "      <td>76561197970982479</td>\n",
       "      <td>1250</td>\n",
       "      <td>1</td>\n",
       "      <td>2011</td>\n",
       "      <td>2</td>\n",
       "      <td>Killing Floor</td>\n",
       "      <td>Tripwire Interactive</td>\n",
       "      <td>Action, FPS, Zombies, Co-op, Survival, Action,...</td>\n",
       "    </tr>\n",
       "    <tr>\n",
       "      <th>1</th>\n",
       "      <td>death-hunter</td>\n",
       "      <td>1250</td>\n",
       "      <td>1</td>\n",
       "      <td>2015</td>\n",
       "      <td>2</td>\n",
       "      <td>Killing Floor</td>\n",
       "      <td>Tripwire Interactive</td>\n",
       "      <td>Action, FPS, Zombies, Co-op, Survival, Action,...</td>\n",
       "    </tr>\n",
       "    <tr>\n",
       "      <th>2</th>\n",
       "      <td>DJKamBer</td>\n",
       "      <td>1250</td>\n",
       "      <td>1</td>\n",
       "      <td>2013</td>\n",
       "      <td>0</td>\n",
       "      <td>Killing Floor</td>\n",
       "      <td>Tripwire Interactive</td>\n",
       "      <td>Action, FPS, Zombies, Co-op, Survival, Action,...</td>\n",
       "    </tr>\n",
       "    <tr>\n",
       "      <th>3</th>\n",
       "      <td>diego9031</td>\n",
       "      <td>1250</td>\n",
       "      <td>1</td>\n",
       "      <td>2015</td>\n",
       "      <td>1</td>\n",
       "      <td>Killing Floor</td>\n",
       "      <td>Tripwire Interactive</td>\n",
       "      <td>Action, FPS, Zombies, Co-op, Survival, Action,...</td>\n",
       "    </tr>\n",
       "    <tr>\n",
       "      <th>4</th>\n",
       "      <td>76561198081962345</td>\n",
       "      <td>1250</td>\n",
       "      <td>1</td>\n",
       "      <td>2014</td>\n",
       "      <td>1</td>\n",
       "      <td>Killing Floor</td>\n",
       "      <td>Tripwire Interactive</td>\n",
       "      <td>Action, FPS, Zombies, Co-op, Survival, Action,...</td>\n",
       "    </tr>\n",
       "    <tr>\n",
       "      <th>...</th>\n",
       "      <td>...</td>\n",
       "      <td>...</td>\n",
       "      <td>...</td>\n",
       "      <td>...</td>\n",
       "      <td>...</td>\n",
       "      <td>...</td>\n",
       "      <td>...</td>\n",
       "      <td>...</td>\n",
       "    </tr>\n",
       "    <tr>\n",
       "      <th>49286</th>\n",
       "      <td>llDracuwulf</td>\n",
       "      <td>307130</td>\n",
       "      <td>1</td>\n",
       "      <td>2015</td>\n",
       "      <td>2</td>\n",
       "      <td>Asteria</td>\n",
       "      <td>Legend Studio</td>\n",
       "      <td>Action, Adventure, Indie, Indie, Adventure, Ac...</td>\n",
       "    </tr>\n",
       "    <tr>\n",
       "      <th>49287</th>\n",
       "      <td>ChrisCoroner</td>\n",
       "      <td>209120</td>\n",
       "      <td>1</td>\n",
       "      <td>2013</td>\n",
       "      <td>2</td>\n",
       "      <td>Street Fighter X Tekken</td>\n",
       "      <td>Capcom U.S.A., Inc.</td>\n",
       "      <td>Action, Fighting, Action, Arcade, 2D Fighter, ...</td>\n",
       "    </tr>\n",
       "    <tr>\n",
       "      <th>49288</th>\n",
       "      <td>MeloncraftLP</td>\n",
       "      <td>220090</td>\n",
       "      <td>1</td>\n",
       "      <td>2013</td>\n",
       "      <td>1</td>\n",
       "      <td>The Journey Down: Chapter One</td>\n",
       "      <td>SkyGoblin</td>\n",
       "      <td>Adventure, Indie, Adventure, Point &amp; Click, In...</td>\n",
       "    </tr>\n",
       "    <tr>\n",
       "      <th>49289</th>\n",
       "      <td>MeloncraftLP</td>\n",
       "      <td>262850</td>\n",
       "      <td>1</td>\n",
       "      <td>2013</td>\n",
       "      <td>1</td>\n",
       "      <td>The Journey Down: Chapter Two</td>\n",
       "      <td>SkyGoblin</td>\n",
       "      <td>Adventure, Indie, Adventure, Indie, Point &amp; Cl...</td>\n",
       "    </tr>\n",
       "    <tr>\n",
       "      <th>49290</th>\n",
       "      <td>vinquility</td>\n",
       "      <td>431510</td>\n",
       "      <td>1</td>\n",
       "      <td>2013</td>\n",
       "      <td>2</td>\n",
       "      <td>Mystic Destinies: Serendipity of Aeons</td>\n",
       "      <td>Aeon Dream Studios</td>\n",
       "      <td>Adventure, Casual, Indie, Simulation, Visual N...</td>\n",
       "    </tr>\n",
       "  </tbody>\n",
       "</table>\n",
       "<p>49291 rows × 8 columns</p>\n",
       "</div>"
      ],
      "text/plain": [
       "                 user_id  item_id  recommend  year_posted  sentiment_analysis  \\\n",
       "0      76561197970982479     1250          1         2011                   2   \n",
       "1           death-hunter     1250          1         2015                   2   \n",
       "2               DJKamBer     1250          1         2013                   0   \n",
       "3              diego9031     1250          1         2015                   1   \n",
       "4      76561198081962345     1250          1         2014                   1   \n",
       "...                  ...      ...        ...          ...                 ...   \n",
       "49286        llDracuwulf   307130          1         2015                   2   \n",
       "49287       ChrisCoroner   209120          1         2013                   2   \n",
       "49288       MeloncraftLP   220090          1         2013                   1   \n",
       "49289       MeloncraftLP   262850          1         2013                   1   \n",
       "49290         vinquility   431510          1         2013                   2   \n",
       "\n",
       "                                        title             developer  \\\n",
       "0                               Killing Floor  Tripwire Interactive   \n",
       "1                               Killing Floor  Tripwire Interactive   \n",
       "2                               Killing Floor  Tripwire Interactive   \n",
       "3                               Killing Floor  Tripwire Interactive   \n",
       "4                               Killing Floor  Tripwire Interactive   \n",
       "...                                       ...                   ...   \n",
       "49286                                 Asteria         Legend Studio   \n",
       "49287                 Street Fighter X Tekken   Capcom U.S.A., Inc.   \n",
       "49288           The Journey Down: Chapter One             SkyGoblin   \n",
       "49289           The Journey Down: Chapter Two             SkyGoblin   \n",
       "49290  Mystic Destinies: Serendipity of Aeons    Aeon Dream Studios   \n",
       "\n",
       "                                             description  \n",
       "0      Action, FPS, Zombies, Co-op, Survival, Action,...  \n",
       "1      Action, FPS, Zombies, Co-op, Survival, Action,...  \n",
       "2      Action, FPS, Zombies, Co-op, Survival, Action,...  \n",
       "3      Action, FPS, Zombies, Co-op, Survival, Action,...  \n",
       "4      Action, FPS, Zombies, Co-op, Survival, Action,...  \n",
       "...                                                  ...  \n",
       "49286  Action, Adventure, Indie, Indie, Adventure, Ac...  \n",
       "49287  Action, Fighting, Action, Arcade, 2D Fighter, ...  \n",
       "49288  Adventure, Indie, Adventure, Point & Click, In...  \n",
       "49289  Adventure, Indie, Adventure, Indie, Point & Cl...  \n",
       "49290  Adventure, Casual, Indie, Simulation, Visual N...  \n",
       "\n",
       "[49291 rows x 8 columns]"
      ]
     },
     "execution_count": 5,
     "metadata": {},
     "output_type": "execute_result"
    }
   ],
   "source": [
    "merged_df = pd.merge(funcion_4, steamxgames, on='item_id', how='inner')\n",
    "merged_df"
   ]
  },
  {
   "cell_type": "markdown",
   "metadata": {},
   "source": [
    "### Funciones"
   ]
  },
  {
   "cell_type": "code",
   "execution_count": 6,
   "metadata": {},
   "outputs": [],
   "source": [
    "def PlayTimeGenre(genero: str):\n",
    "    '''\n",
    "    Debe devolver año con mas horas jugadas para dicho género.\n",
    "    Ejemplo de retorno: {\"Año de lanzamiento con más horas jugadas para Género X\" : 2013}\n",
    "    \n",
    "    '''\n",
    "    # Filtramos el dataframe 'items_games' respecto al parámetro genero\n",
    "    df = itemsxgames[itemsxgames['genres']== genero]\n",
    "    \n",
    "    # Agrupamos el dataframe anterior por año de lanzamiento, suma de minutos de juego y ordenamos en forma descendente\n",
    "    agrupado = df.groupby('year_release')['playtime_forever'].sum().sort_values(ascending=False)\n",
    "\n",
    "    # El valor máximo tendrá índice [0]\n",
    "    anio = agrupado.index[0]\n",
    "    \n",
    "    return {f\"Año de lanzamiento con más horas jugadas para el género {genero}\": int(anio)}"
   ]
  },
  {
   "cell_type": "code",
   "execution_count": 7,
   "metadata": {},
   "outputs": [
    {
     "data": {
      "text/plain": [
       "{'Año de lanzamiento con más horas jugadas para el género Action': 2013}"
      ]
     },
     "execution_count": 7,
     "metadata": {},
     "output_type": "execute_result"
    }
   ],
   "source": [
    "PlayTimeGenre('Action')"
   ]
  },
  {
   "cell_type": "code",
   "execution_count": 8,
   "metadata": {},
   "outputs": [],
   "source": [
    "def UserForGenre(genero: str):\n",
    "    '''\n",
    "    Debe devolver el usuario que acumula más horas jugadas para el género dado y una lista de la acumulación de horas jugadas por año.\n",
    "    Ejemplo de retorno: {\"Usuario con más horas jugadas para Género X\" : us213ndjss09sdf, \"Horas jugadas\":[{Año: 2013, Horas: 203}, {Año: 2012, Horas: 100}, {Año: 2011, Horas: 23}]}\n",
    "    '''\n",
    "    # Filtramos el dataframe 'itemsxgames' respecto al parámetro genero\n",
    "    df = itemsxgames[itemsxgames['genres'] == genero]\n",
    "\n",
    "    # Agrupamos el dataframe anterior por usuario, suma de horas de juego y ordenamos en forma descendente\n",
    "    agrupado = df.groupby('user_id')['playtime_forever'].sum().sort_values(ascending=False)\n",
    "\n",
    "    # El valor máximo tendrá índice [0]\n",
    "    user = agrupado.index[0]\n",
    "\n",
    "    # Tomamos las filas del dataframe util que contengan su respectivo usuario (user)\n",
    "    df_genero_user = df[df['user_id'] == user]\n",
    "\n",
    "    # Agrupamos respecto a los años y suma de horas de juego\n",
    "    horas_jugadas = round(df_genero_user.groupby('year_release')['playtime_forever'].sum() / 60, 3)\n",
    "\n",
    "    # Guardamos la serie 'horas_jugadas' en una lista\n",
    "    lista_horas_jugadas = [{'Año': int(anio), 'Horas': horas} for anio, horas in horas_jugadas.items()]\n",
    "\n",
    "    return {f\"Usuario con más horas jugadas para género {genero}\": user, \"Horas jugadas\": lista_horas_jugadas}\n"
   ]
  },
  {
   "cell_type": "code",
   "execution_count": 9,
   "metadata": {},
   "outputs": [
    {
     "data": {
      "text/plain": [
       "{'Usuario con más horas jugadas para género Simulation': 'phrostb',\n",
       " 'Horas jugadas': [{'Año': 1994, 'Horas': 5.233},\n",
       "  {'Año': 1996, 'Horas': 3.133},\n",
       "  {'Año': 1998, 'Horas': 6.1},\n",
       "  {'Año': 2000, 'Horas': 8.7},\n",
       "  {'Año': 2001, 'Horas': 2.8},\n",
       "  {'Año': 2002, 'Horas': 1.183},\n",
       "  {'Año': 2003, 'Horas': 2.333},\n",
       "  {'Año': 2004, 'Horas': 4.067},\n",
       "  {'Año': 2006, 'Horas': 5.167},\n",
       "  {'Año': 2007, 'Horas': 10.367},\n",
       "  {'Año': 2008, 'Horas': 0.2},\n",
       "  {'Año': 2009, 'Horas': 16.533},\n",
       "  {'Año': 2010, 'Horas': 11.233},\n",
       "  {'Año': 2011, 'Horas': 21.883},\n",
       "  {'Año': 2012, 'Horas': 35.333},\n",
       "  {'Año': 2013, 'Horas': 86.467},\n",
       "  {'Año': 2014, 'Horas': 186.467},\n",
       "  {'Año': 2015, 'Horas': 432.45},\n",
       "  {'Año': 2016, 'Horas': 245.483},\n",
       "  {'Año': 2017, 'Horas': 10.8},\n",
       "  {'Año': 2018, 'Horas': 4.15}]}"
      ]
     },
     "execution_count": 9,
     "metadata": {},
     "output_type": "execute_result"
    }
   ],
   "source": [
    "UserForGenre('Simulation')"
   ]
  },
  {
   "cell_type": "code",
   "execution_count": 10,
   "metadata": {},
   "outputs": [],
   "source": [
    "def UserRecommend(anio: int):\n",
    "    '''\n",
    "    Devuelve el top 3 de juegos MÁS recomendados por usuarios para el año dado. (reviews.recommend = True y comentarios positivos/neutrales)\n",
    "    Ejemplo de retorno: [{\"Puesto 1\" : X}, {\"Puesto 2\" : Y},{\"Puesto 3\" : Z}]\n",
    "\n",
    "    '''\n",
    "    # Si el año de lanzamiento(year_release) no coincide con alguno de los años en los que se hace una reseña(year_posted), se retorna un mensaje de erro\n",
    "    if anio not in reviewsxgames['year_posted'].unique():\n",
    "        return f\"Año fuera de rango, ingrese un año válido\"\n",
    "    \n",
    "    else:\n",
    "        # Filtramos el dataframe con las filas cuyo año de posteo(year_posted) es mayor o igual al año de publicación(year_release)\n",
    "        df = reviewsxgames[reviewsxgames['year_posted']>=reviewsxgames['year_release']]\n",
    "        \n",
    "        # Filtramos el dataframe 'df' para el año parámetro y la columna sentiment_analysis sea positivo(2) o neutro(1)\n",
    "        df_anio_dado = df[(df['year_posted']==anio) & (df['sentiment_analysis'].isin([1,2]))]\n",
    "\n",
    "        # Agrupamos el dataframe 'df_anio_dado' por título del juego ('title'), sumamos las recomendaciones('recommend') para tener los juegos más recomendados y ordenamos de forma descendente\n",
    "        top = df_anio_dado.groupby('title')['recommend'].sum().sort_values(ascending=False)\n",
    "\n",
    "        # Construimos el top3\n",
    "        top3 = [{\"Puesto 1\": top.index[0]}, {\"Puesto 2\": top.index[1]}, {\"Puesto 3\": top.index[2]}]\n",
    "\n",
    "    return top3"
   ]
  },
  {
   "cell_type": "code",
   "execution_count": 11,
   "metadata": {},
   "outputs": [
    {
     "data": {
      "text/plain": [
       "[{'Puesto 1': 'Team Fortress 2'},\n",
       " {'Puesto 2': 'Terraria'},\n",
       " {'Puesto 3': 'Realm of the Mad God'}]"
      ]
     },
     "execution_count": 11,
     "metadata": {},
     "output_type": "execute_result"
    }
   ],
   "source": [
    "UserRecommend(2012)"
   ]
  },
  {
   "cell_type": "code",
   "execution_count": 12,
   "metadata": {},
   "outputs": [],
   "source": [
    "def UsersWorstDeveloper(año: int):\n",
    "    '''\n",
    "    Devuelve el top 3 de desarrolladoras con juegos MENOS recomendados por usuarios para el año dado. (reviews.recommend = False y comentarios negativos)\n",
    "    Ejemplo de retorno: [{\"Puesto 1\" : X}, {\"Puesto 2\" : Y},{\"Puesto 3\" : Z}]\n",
    "    '''\n",
    "    # Filtra el DataFrame para el año dado\n",
    "    filtered_df = merged_df[merged_df['year_posted'] == año]\n",
    "\n",
    "    # Filtra juegos menos recomendados (recommend=0 y sentiment_analysis<2)\n",
    "    less_recommended = filtered_df[(filtered_df['recommend'] == 0) & (filtered_df['sentiment_analysis'] < 2)]\n",
    "\n",
    "    # Agrupa por desarrolladora y cuenta la cantidad de juegos menos recomendados\n",
    "    developer_counts = less_recommended.groupby('developer').size().reset_index(name='count')\n",
    "\n",
    "    # Ordena en orden ascendente por la cantidad de juegos menos recomendados\n",
    "    sorted_developers = developer_counts.sort_values(by='count')\n",
    "\n",
    "    # Toma las 3 desarrolladoras con menos juegos recomendados\n",
    "    top_3 = sorted_developers.head(3)\n",
    "\n",
    "    # Crea el resultado en el formato solicitado\n",
    "    result = [{\"Puesto {}: {}\".format(i+1, row['developer'])} for i, (index, row) in enumerate(top_3.iterrows())]\n",
    "\n",
    "    return result"
   ]
  },
  {
   "cell_type": "code",
   "execution_count": 13,
   "metadata": {},
   "outputs": [
    {
     "data": {
      "text/plain": [
       "[{'Puesto 1: 10th Art Studio,Adventure Productions'},\n",
       " {'Puesto 2: Orange_Juice'},\n",
       " {'Puesto 3: Oovee® Game Studios'}]"
      ]
     },
     "execution_count": 13,
     "metadata": {},
     "output_type": "execute_result"
    }
   ],
   "source": [
    "UsersWorstDeveloper(2015)"
   ]
  },
  {
   "cell_type": "code",
   "execution_count": 14,
   "metadata": {},
   "outputs": [],
   "source": [
    "def sentiment_analysis(desarrolladora: str):\n",
    "    '''\n",
    "    Según la empresa desarrolladora, se devuelve un diccionario con el nombre de la desarrolladora como llave y una lista con la cantidad total de registros de reseñas de usuarios que se encuentren categorizados con un análisis de sentimiento como valor.\n",
    "    Ejemplo de retorno: {'Valve' : [Negative = 182, Neutral = 120, Positive = 278]}\n",
    "    '''\n",
    "    # Filtra el DataFrame para la desarrolladora dada\n",
    "    filtered_df = merged_df[merged_df['developer'] == desarrolladora]\n",
    "\n",
    "    # Cuenta la cantidad de registros por análisis de sentimiento\n",
    "    sentiment_counts = filtered_df['sentiment_analysis'].value_counts().sort_index()\n",
    "\n",
    "    # Mapea los valores numéricos de sentiment_analysis a etiquetas\n",
    "    sentiment_labels = {0: 'Negative', 1: 'Neutral', 2: 'Positive'}\n",
    "    sentiment_counts.rename(index=sentiment_labels, inplace=True)\n",
    "\n",
    "    # Crea el resultado en el formato solicitado\n",
    "    result = {desarrolladora: sentiment_counts.to_dict()}\n",
    "\n",
    "    return result\n"
   ]
  },
  {
   "cell_type": "code",
   "execution_count": 15,
   "metadata": {},
   "outputs": [
    {
     "data": {
      "text/plain": [
       "{'Valve': {'Negative': 1114, 'Neutral': 2357, 'Positive': 6105}}"
      ]
     },
     "execution_count": 15,
     "metadata": {},
     "output_type": "execute_result"
    }
   ],
   "source": [
    "sentiment_analysis('Valve')"
   ]
  },
  {
   "cell_type": "markdown",
   "metadata": {},
   "source": [
    "**Modelo recomendacion_juego( id de producto )**"
   ]
  },
  {
   "cell_type": "code",
   "execution_count": 16,
   "metadata": {},
   "outputs": [
    {
     "name": "stderr",
     "output_type": "stream",
     "text": [
      "c:\\Users\\ramir\\AppData\\Local\\Programs\\Python\\Python311\\Lib\\site-packages\\sklearn\\feature_extraction\\text.py:525: UserWarning: The parameter 'token_pattern' will not be used since 'tokenizer' is not None'\n",
      "  warnings.warn(\n"
     ]
    }
   ],
   "source": [
    "from sklearn.feature_extraction.text import CountVectorizer\n",
    "from sklearn.metrics.pairwise import cosine_similarity\n",
    "\n",
    "# Creamos una instancia de la clase CountVectorizer\n",
    "vector = CountVectorizer(tokenizer=lambda x: x.split(', '))\n",
    "\n",
    "# Dividimos cada cadena de descripción en palabras individuales y creamos una matriz de conteo 'matriz_generos' que representa cuántas veces aparece cada género en cada videojuego.\n",
    "matriz_generos = vector.fit_transform(steamxgames['description'])\n",
    "\n",
    "def recomendacion_juego(id_producto: int):\n",
    "    '''\n",
    "    Se ingresa el id de producto (item_id) y retorna una lista con 5 juegos recomendados similares al ingresado (title).\n",
    "    '''\n",
    "    # Si el id ingresado no se encuentra en la columna de id de la tabla 'steam_games', se le pide al usuario que intente con otro id\n",
    "    if id_producto not in steamxgames['item_id'].values:\n",
    "        return 'El ID no existe, intente con otro'\n",
    "    else:\n",
    "        # Buscamos el índice del id ingresado\n",
    "        index = steamxgames.index[steamxgames['item_id'] == id_producto][0]\n",
    "\n",
    "        # De la matriz de conteo, tomamos el array de géneros con índice igual a 'index'\n",
    "        generos_index = matriz_generos[index]\n",
    "\n",
    "        # Calculamos la similitud coseno entre los géneros de entrada y los géneros de las demás filas: cosine_similarity(generos_index, matriz_generos)\n",
    "        # Obtenemos los índices de las mayores similitudes mediante el método argsort() y las similitudes ordenadas de manera descendente\n",
    "        # Tomamos los índices del 1 al 6 [0, 1:6] ya que el índice 0 es el mismo índice de entrada\n",
    "        indices_maximos = np.argsort(-cosine_similarity(generos_index, matriz_generos))[0, 1:6]\n",
    "\n",
    "        # Construimos la lista de recomendaciones\n",
    "        recomendaciones = []\n",
    "        for i in indices_maximos:\n",
    "            recomendaciones.append(steamxgames['title'][i])\n",
    "\n",
    "        return recomendaciones\n"
   ]
  },
  {
   "cell_type": "code",
   "execution_count": 17,
   "metadata": {},
   "outputs": [
    {
     "data": {
      "text/plain": [
       "['Dark Snow',\n",
       " 'Cyborg Arena',\n",
       " 'M1: A Death in the Desert',\n",
       " 'The Moon Night',\n",
       " 'Swingin Swiggins']"
      ]
     },
     "execution_count": 17,
     "metadata": {},
     "output_type": "execute_result"
    }
   ],
   "source": [
    "recomendacion_juego(745400)"
   ]
  }
 ],
 "metadata": {
  "kernelspec": {
   "display_name": "Python 3",
   "language": "python",
   "name": "python3"
  },
  "language_info": {
   "codemirror_mode": {
    "name": "ipython",
    "version": 3
   },
   "file_extension": ".py",
   "mimetype": "text/x-python",
   "name": "python",
   "nbconvert_exporter": "python",
   "pygments_lexer": "ipython3",
   "version": "3.11.4"
  }
 },
 "nbformat": 4,
 "nbformat_minor": 2
}
